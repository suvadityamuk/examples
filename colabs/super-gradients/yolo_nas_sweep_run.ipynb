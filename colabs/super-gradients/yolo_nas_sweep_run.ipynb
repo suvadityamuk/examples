{
  "nbformat": 4,
  "nbformat_minor": 0,
  "metadata": {
    "colab": {
      "provenance": []
    },
    "kernelspec": {
      "name": "python3",
      "display_name": "Python 3"
    },
    "language_info": {
      "name": "python"
    }
  },
  "cells": [
    {
      "cell_type": "markdown",
      "source": [
        "## Installation and Imports"
      ],
      "metadata": {
        "id": "Fe3Dp6NDzPyr"
      }
    },
    {
      "cell_type": "code",
      "execution_count": null,
      "metadata": {
        "id": "KXwTjgsFkZnm"
      },
      "outputs": [],
      "source": [
        "!sudo apt install libcairo2-dev pkg-config python3-dev -qq\n",
        "!pip install roboflow pycairo wandb sweeps -qqq\n",
        "!pip install super_gradients"
      ]
    },
    {
      "cell_type": "code",
      "source": [
        "import os\n",
        "import glob\n",
        "import torch\n",
        "import wandb\n",
        "import warnings\n",
        "import pandas as pd\n",
        "\n",
        "from google.colab import userdata\n",
        "from torchvision.io import read_image\n",
        "from torch.utils.data import DataLoader\n",
        "from IPython.display import clear_output\n",
        "\n",
        "from super_gradients.training import models, Trainer, dataloaders\n",
        "from super_gradients.training.losses import PPYoloELoss\n",
        "from super_gradients.training.metrics import DetectionMetrics_050\n",
        "from super_gradients.training.models.detection_models.pp_yolo_e import PPYoloEPostPredictionCallback\n",
        "from super_gradients.training.dataloaders.dataloaders import coco_detection_yolo_format_train, coco_detection_yolo_format_val\n",
        "\n",
        "os.environ[\"WANDB_API_KEY\"] = userdata.get('wandb')\n",
        "os.environ[\"ROBOFLOW_API_KEY\"] = userdata.get('roboflow')"
      ],
      "metadata": {
        "id": "PpsF3k8awWbP"
      },
      "execution_count": null,
      "outputs": []
    },
    {
      "cell_type": "markdown",
      "source": [
        "# Definitions"
      ],
      "metadata": {
        "id": "qRjY7eYPzScK"
      }
    },
    {
      "cell_type": "code",
      "source": [
        "seed = 42\n",
        "torch.manual_seed(seed)\n",
        "\n",
        "if torch.cuda.is_available():\n",
        "    torch.cuda.manual_seed(seed)\n",
        "    torch.cuda.manual_seed_all(seed)\n",
        "\n",
        "torch.backends.cudnn.deterministic = True\n",
        "torch.backends.cudnn.benchmark = False"
      ],
      "metadata": {
        "id": "nVJIsdFOwXX2"
      },
      "execution_count": null,
      "outputs": []
    },
    {
      "cell_type": "markdown",
      "source": [
        "# Download and Register dataset"
      ],
      "metadata": {
        "id": "FhcF4opozT8c"
      }
    },
    {
      "cell_type": "code",
      "source": [
        "from roboflow import Roboflow\n",
        "rf = Roboflow(api_key=os.getenv(\"ROBOFLOW_API_KEY\"))\n",
        "project = rf.workspace(\"easyhyeon\").project(\"trash-sea\")\n",
        "dataset = project.version(10).download(\"yolov5\")"
      ],
      "metadata": {
        "id": "BcSFy0iewaJM"
      },
      "execution_count": null,
      "outputs": []
    },
    {
      "cell_type": "code",
      "source": [
        "ENTITY = \"ml-colabs\"\n",
        "SWEEP_NUM_RUNS = 100\n",
        "WANDB_PROJECT_NAME = \"fconn-yolo-nas\"\n",
        "DATASET_PATH = \"/content/trash-sea-10\""
      ],
      "metadata": {
        "id": "QIjvNsTowbKO"
      },
      "execution_count": null,
      "outputs": []
    },
    {
      "cell_type": "markdown",
      "source": [
        "# Define Sweep Configuration and functions"
      ],
      "metadata": {
        "id": "VO0p4iM0zW1N"
      }
    },
    {
      "cell_type": "code",
      "source": [
        "sweep_configuration = {\n",
        "    \"name\": WANDB_EXP_NAME,\n",
        "    \"metric\": {\"name\": \"Valid_mAP@0.50\", \"goal\": \"maximize\"},\n",
        "    \"method\": \"bayes\",\n",
        "    \"parameters\": {\n",
        "        \"batch_size\": {\"values\": [16, 24, 32]},\n",
        "        \"optimizer\": {\"values\": [\"Adam\", \"SGD\", \"RMSProp\", \"AdamW\"]},\n",
        "        \"ema_decay\": {\"min\":0.5, \"max\":0.9},\n",
        "        \"ema_decay_type\": {\"values\": [\"constant\", \"threshold\"]},\n",
        "        \"cosine_lr_ratio\": {\"min\": 0.01, \"max\": 0.4},\n",
        "        \"iou_loss_weight\": {\"min\": 0.25, \"max\": 2.0},\n",
        "        \"dfl_loss_weight\": {\"min\": 0.25, \"max\": 2.0},\n",
        "        \"classification_loss_weight\": {\"min\": 0.25, \"max\": 2.0},\n",
        "        \"model_flavor\": {\"values\": [\"yolo_nas_s\", \"yolo_nas_m\", \"yolo_nas_l\"]},\n",
        "        \"weight_decay\": {\"min\": 0.0001, \"max\": 0.01},\n",
        "    },\n",
        "}"
      ],
      "metadata": {
        "id": "8kMUNQ6HwoFa"
      },
      "execution_count": null,
      "outputs": []
    },
    {
      "cell_type": "code",
      "source": [
        "def main_call():\n",
        "\n",
        "    CHECKPOINT_DIR = 'checkpoints'\n",
        "\n",
        "    wandb.init(\n",
        "        project=WANDB_PROJECT_NAME,\n",
        "        entity=ENTITY,\n",
        "        resume=\"allow\",\n",
        "        save_code=True,\n",
        "        id=WANDB_EXP_NAME\n",
        "    )\n",
        "\n",
        "    config = wandb.config\n",
        "\n",
        "    dataset_params = {\n",
        "        'data_dir':DATASET_PATH,\n",
        "        'train_images_dir':'train/images',\n",
        "        'train_labels_dir':'train/labels',\n",
        "        'val_images_dir':'valid/images',\n",
        "        'val_labels_dir':'valid/labels',\n",
        "        'test_images_dir':'test/images',\n",
        "        'test_labels_dir':'test/labels',\n",
        "        'classes': [\"Buoy\", \"Can\", \"Paper\", \"Plastic Bag\", \"Plastic Bottle\"]\n",
        "    }\n",
        "\n",
        "    train_data = coco_detection_yolo_format_train(\n",
        "        dataset_params={\n",
        "            'data_dir': dataset_params['data_dir'],\n",
        "            'images_dir': dataset_params['train_images_dir'],\n",
        "            'labels_dir': dataset_params['train_labels_dir'],\n",
        "            'classes': dataset_params['classes'],\n",
        "        },\n",
        "        dataloader_params={\n",
        "            'batch_size':config[\"batch_size\"],\n",
        "            'num_workers':4\n",
        "        }\n",
        "    )\n",
        "\n",
        "    val_data = coco_detection_yolo_format_val(\n",
        "        dataset_params={\n",
        "            'data_dir': dataset_params['data_dir'],\n",
        "            'images_dir': dataset_params['val_images_dir'],\n",
        "            'labels_dir': dataset_params['val_labels_dir'],\n",
        "            'classes': dataset_params['classes'],\n",
        "        },\n",
        "        dataloader_params={\n",
        "            'batch_size':config[\"batch_size\"],\n",
        "            'num_workers':4\n",
        "        }\n",
        "    )\n",
        "\n",
        "    test_data = coco_detection_yolo_format_val(\n",
        "        dataset_params={\n",
        "            'data_dir': dataset_params['data_dir'],\n",
        "            'images_dir': dataset_params['test_images_dir'],\n",
        "            'labels_dir': dataset_params['test_labels_dir'],\n",
        "            'classes': dataset_params['classes'],\n",
        "        },\n",
        "        dataloader_params={\n",
        "            'batch_size':config[\"batch_size\"],\n",
        "            'num_workers':4\n",
        "        }\n",
        "    )\n",
        "\n",
        "    train_data.dataset.transforms = train_data.dataset.transforms[1:]\n",
        "\n",
        "    model = models.get(\n",
        "        config[\"model_flavor\"],\n",
        "        num_classes=len(dataset_params['classes']),\n",
        "        pretrained_weights=\"coco\"\n",
        "    )\n",
        "\n",
        "    train_params = {\n",
        "        'silent_mode': False,\n",
        "        \"average_best_models\":True,\n",
        "        \"warmup_mode\": \"linear_epoch_step\",\n",
        "        \"warmup_initial_lr\": 1e-6,\n",
        "        \"lr_warmup_epochs\": 3,\n",
        "        \"initial_lr\": 1e-3,\n",
        "        \"lr_mode\": \"cosine\",\n",
        "        \"cosine_final_lr_ratio\": config[\"cosine_lr_ratio\"],\n",
        "        \"optimizer\": config[\"optimizer\"],\n",
        "        \"optimizer_params\": {\n",
        "            \"weight_decay\": config[\"weight_decay\"]\n",
        "        },\n",
        "        \"zero_weight_decay_on_bias_and_bn\": True,\n",
        "        \"ema\": True,\n",
        "        \"ema_params\": {\n",
        "            \"decay\": config[\"ema_decay\"],\n",
        "            \"decay_type\": config[\"ema_decay_type\"]\n",
        "        },\n",
        "        \"max_epochs\": 5,\n",
        "        \"mixed_precision\": False,\n",
        "        \"loss\": PPYoloELoss(\n",
        "            use_static_assigner=False,\n",
        "            num_classes=len(dataset_params['classes']),\n",
        "            reg_max=16,\n",
        "            iou_loss_weight=config[\"iou_loss_weight\"],\n",
        "            dfl_loss_weight=config[\"dfl_loss_weight\"],\n",
        "            classification_loss_weight=config[\"classification_loss_weight\"]\n",
        "        ),\n",
        "        \"valid_metrics_list\": [\n",
        "            DetectionMetrics_050(\n",
        "                score_thres=0.1,\n",
        "                top_k_predictions=300,\n",
        "                num_cls=len(dataset_params['classes']),\n",
        "                normalize_targets=True,\n",
        "                post_prediction_callback=PPYoloEPostPredictionCallback(\n",
        "                    score_threshold=0.01,\n",
        "                    nms_top_k=1000,\n",
        "                    max_predictions=300,\n",
        "                    nms_threshold=0.7\n",
        "                )\n",
        "            )\n",
        "        ],\n",
        "        \"metric_to_watch\": 'mAP@0.50',\n",
        "        \"sg_logger\": \"wandb_sg_logger\",\n",
        "        \"sg_logger_params\": {\n",
        "            \"project_name\": WANDB_PROJECT_NAME,\n",
        "            \"save_checkpoints_remote\": True,\n",
        "            \"save_tensorboard_remote\": True,\n",
        "            \"save_logs_remote\": True,\n",
        "            \"entity\": ENTITY\n",
        "        }\n",
        "    }\n",
        "\n",
        "    trainer = Trainer(\n",
        "        experiment_name=WANDB_EXP_NAME,\n",
        "        ckpt_root_dir=CHECKPOINT_DIR\n",
        "    )\n",
        "\n",
        "    trainer.train(\n",
        "        model=model,\n",
        "        training_params=train_params,\n",
        "        train_loader=train_data,\n",
        "        valid_loader=val_data\n",
        "    )\n",
        "\n",
        "    wandb.finish()"
      ],
      "metadata": {
        "id": "nnZzxVmEwb-U"
      },
      "execution_count": null,
      "outputs": []
    },
    {
      "cell_type": "markdown",
      "source": [
        "# Execute Sweep"
      ],
      "metadata": {
        "id": "3Xp0UU73zajw"
      }
    },
    {
      "cell_type": "code",
      "source": [
        "sweep_id = wandb.sweep(\n",
        "    sweep=sweep_configuration,\n",
        "    project=\"yolo-nas-sweep\"\n",
        ")\n",
        "\n",
        "wandb.agent(sweep_id, function=main_call, count=SWEEP_NUM_RUNS)"
      ],
      "metadata": {
        "id": "9r6LrkhQwxdA"
      },
      "execution_count": null,
      "outputs": []
    }
  ]
}